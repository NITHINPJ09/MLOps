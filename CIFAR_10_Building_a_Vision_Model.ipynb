{
  "nbformat": 4,
  "nbformat_minor": 0,
  "metadata": {
    "colab": {
      "provenance": [],
      "gpuType": "T4"
    },
    "kernelspec": {
      "name": "python3",
      "display_name": "Python 3"
    },
    "language_info": {
      "name": "python"
    },
    "accelerator": "GPU"
  },
  "cells": [
    {
      "cell_type": "code",
      "source": [
        "!pip install mlflow\n",
        "!pip install onnx\n",
        "!pip install tf2onnx"
      ],
      "metadata": {
        "id": "MCzM7KRb3cDW"
      },
      "execution_count": null,
      "outputs": []
    },
    {
      "cell_type": "code",
      "source": [
        "import numpy as np\n",
        "import tensorflow\n",
        "import matplotlib.pyplot as plt\n",
        "import mlflow\n",
        "import os\n",
        "import cv2\n",
        "from tensorflow.keras.datasets import cifar10\n",
        "from tensorflow.keras.utils import to_categorical\n",
        "from tensorflow.keras.models import Sequential\n",
        "from tensorflow.keras.layers import Input, Dense, Conv2D, MaxPooling2D, Dropout, Flatten\n",
        "from tensorflow.keras.optimizers import RMSprop"
      ],
      "metadata": {
        "id": "ryG1bimp3rM0"
      },
      "execution_count": null,
      "outputs": []
    },
    {
      "cell_type": "code",
      "source": [
        "(train_images, train_labels), (test_images, test_labels) = cifar10.load_data()"
      ],
      "metadata": {
        "id": "m-RIhWjP4vG1"
      },
      "execution_count": null,
      "outputs": []
    },
    {
      "cell_type": "code",
      "source": [
        "print('Training data shape: ', train_images.shape, train_labels.shape)\n",
        "print('Testing data shape: ', test_images.shape, test_labels.shape)\n",
        "classes = np.unique(train_labels)\n",
        "nClasses = len(classes)\n",
        "print('Total number of outputs: ', nClasses)\n",
        "print('Output classes: ', classes)\n",
        "plt.figure(figsize=[4, 2])\n",
        "plt.subplot(121)\n",
        "plt.imshow(train_images[0])\n",
        "plt.title('Ground Truth: {}'.format(train_labels[0]))\n",
        "plt.subplot(122)\n",
        "plt.imshow(test_images[0])\n",
        "plt.title('Ground Truth: {}'.format(test_labels[0]))\n",
        "plt.show()"
      ],
      "metadata": {
        "id": "tiY_L5E041x1"
      },
      "execution_count": null,
      "outputs": []
    },
    {
      "cell_type": "code",
      "source": [
        "train_images, test_images = train_images / 255.0, test_images / 255.0"
      ],
      "metadata": {
        "id": "AG8PfEtC46gQ"
      },
      "execution_count": null,
      "outputs": []
    },
    {
      "cell_type": "code",
      "source": [
        "print('Original label: ', train_labels[0])\n",
        "train_labels = to_categorical(train_labels)\n",
        "test_labels = to_categorical(test_labels)\n",
        "print('After conversion to categorical (one-hot): ', train_labels[0])"
      ],
      "metadata": {
        "id": "VjdrUGgO4-Lr"
      },
      "execution_count": null,
      "outputs": []
    },
    {
      "cell_type": "code",
      "source": [
        "batch_size = 256\n",
        "epochs = 25\n",
        "optimizer = RMSprop()\n",
        "loss_function = 'categorical_crossentropy'\n",
        "metrics = ['accuracy']"
      ],
      "metadata": {
        "id": "u9l9IYkw5Ipf"
      },
      "execution_count": null,
      "outputs": []
    },
    {
      "cell_type": "code",
      "source": [
        "mlflow.set_tracking_uri(\"http://52.146.88.221:5000\")\n",
        "mlflow.set_experiment(\"CIFAR10-Image-Classification\")\n",
        "with mlflow.start_run(run_name=\"CNN_CIFAR10\"):\n",
        "    mlflow.log_param(\"optimizer\", \"RMSprop\")\n",
        "    mlflow.log_param(\"batch_size\", batch_size)\n",
        "    mlflow.log_param(\"epochs\", epochs)\n",
        "    mlflow.log_param(\"loss_function\", loss_function)\n",
        "    model = Sequential([\n",
        "        Input(shape=train_images.shape[1:]),\n",
        "        Conv2D(32, (3, 3), padding='same', activation='relu'),\n",
        "        Conv2D(32, (3, 3), activation='relu'),\n",
        "        MaxPooling2D(pool_size=(2, 2)),\n",
        "        Dropout(0.25),\n",
        "        Conv2D(64, (3, 3), padding='same', activation='relu'),\n",
        "        Conv2D(64, (3, 3), activation='relu'),\n",
        "        MaxPooling2D(pool_size=(2, 2)),\n",
        "        Dropout(0.25),\n",
        "        Conv2D(64, (3, 3), padding='same', activation='relu'),\n",
        "        Conv2D(64, (3, 3), activation='relu'),\n",
        "        MaxPooling2D(pool_size=(2, 2)),\n",
        "        Dropout(0.25),\n",
        "        Flatten(),\n",
        "        Dense(512, activation='relu'),\n",
        "        Dropout(0.5),\n",
        "        Dense(nClasses, activation='softmax')\n",
        "    ])\n",
        "    model.summary()\n",
        "    model.compile(optimizer=optimizer, loss=loss_function, metrics=metrics)\n",
        "    history = model.fit(\n",
        "        train_images, train_labels,\n",
        "        batch_size=batch_size,\n",
        "        epochs=epochs,\n",
        "        verbose=1,\n",
        "        validation_split=0.20\n",
        "    )\n",
        "    plt.figure(figsize=[8, 6])\n",
        "    plt.plot(history.history['loss'], 'r', linewidth=3.0)\n",
        "    plt.plot(history.history['val_loss'], 'b', linewidth=3.0)\n",
        "    plt.legend(['Training loss', 'Validation Loss'], fontsize=18)\n",
        "    plt.xlabel('Epochs', fontsize=16)\n",
        "    plt.ylabel('Loss', fontsize=16)\n",
        "    plt.title('Loss Curves', fontsize=16)\n",
        "    plt.show()\n",
        "    plt.savefig(\"Loss-Curves.png\")\n",
        "    plt.figure(figsize=[8, 6])\n",
        "    plt.plot(history.history['accuracy'], 'r', linewidth=3.0)\n",
        "    plt.plot(history.history['val_accuracy'], 'b', linewidth=3.0)\n",
        "    plt.legend(['Training Accuracy', 'Validation Accuracy'], fontsize=18)\n",
        "    plt.xlabel('Epochs', fontsize=16)\n",
        "    plt.ylabel('Accuracy', fontsize=16)\n",
        "    plt.title('Accuracy Curves', fontsize=16)\n",
        "    plt.show()\n",
        "    plt.savefig(\"Accuracy-Curves.png\")\n",
        "    mlflow.log_artifact(\"Loss-Curves.png\")\n",
        "    mlflow.log_artifact(\"Accuracy-Curves.png\")\n",
        "    test_loss, test_accuracy = model.evaluate(test_images, test_labels)\n",
        "    print(\"Test Loss:\", test_loss)\n",
        "    print(\"Test Accuracy:\", test_accuracy)\n",
        "    mlflow.log_metric(\"test_loss\", test_loss)\n",
        "    mlflow.log_metric(\"test_accuracy\", test_accuracy)"
      ],
      "metadata": {
        "id": "nf9jt2kn5uQU"
      },
      "execution_count": null,
      "outputs": []
    },
    {
      "cell_type": "code",
      "source": [
        "labels =  ['airplane', 'automobile', 'bird', 'cat', 'deer', 'dog', 'frog', 'horse', 'ship', 'truck']\n",
        "plt.figure(figsize=(13, 10))\n",
        "for i in range(25):\n",
        "    plt.subplot(5, 5, i+1)\n",
        "    plt.axis('off')\n",
        "    plt.imshow(test_images[i])\n",
        "    gt_string = f'Ground Truth: {labels[np.argmax(test_labels[i])]}'\n",
        "    pred_string = f'Prediction: {labels[np.argmax(model.predict(test_images[i:i+1]))]}'\n",
        "    plt.title(f'{gt_string}\\n{pred_string}')\n",
        "    plt.tight_layout()\n",
        "plt.show()"
      ],
      "metadata": {
        "id": "kZkCmXbCl8g9"
      },
      "execution_count": null,
      "outputs": []
    },
    {
      "cell_type": "code",
      "source": [
        "model.export(\"models/cifar_classifier.onnx\", format=\"onnx\")"
      ],
      "metadata": {
        "id": "h0G0N615mBc2"
      },
      "execution_count": null,
      "outputs": []
    },
    {
      "cell_type": "code",
      "source": [
        "label_names = ['airplane', 'automobile', 'bird', 'cat', 'deer', 'dog', 'frog', 'horse', 'ship', 'truck']\n",
        "label_names.sort()\n",
        "model_path = os.path.join('models', 'cifar_classifier.onnx')\n",
        "net = cv2.dnn.readNetFromONNX(model_path)\n",
        "img_original = cv2.imread('image_2.png')\n",
        "img = img_original.copy()\n",
        "img = cv2.resize(img,(32,32))\n",
        "img = cv2.cvtColor(img, cv2.COLOR_BGR2RGB)\n",
        "img = np.array([img]).astype('float64') / 255.0\n",
        "net.setInput(img)\n",
        "out = net.forward()\n",
        "index = np.argmax(out[0])\n",
        "prob = np.max(out[0])\n",
        "label =  label_names[index]\n",
        "text = 'Predicted: {}, Probability {:.2f}%'.format(label, prob*100)\n",
        "cv2.putText(img_original, text, (5, 40),  cv2.FONT_HERSHEY_COMPLEX, 1, (100, 20, 255), 2)\n",
        "plt.figure(figsize=(20,10))\n",
        "plt.imshow(cv2.cvtColor(img_original, cv2.COLOR_BGR2RGB))\n",
        "plt.axis('off')\n",
        "plt.show()"
      ],
      "metadata": {
        "id": "3Rz5eHMJriAA"
      },
      "execution_count": null,
      "outputs": []
    }
  ]
}