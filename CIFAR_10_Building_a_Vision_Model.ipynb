{
  "cells": [
    {
      "cell_type": "code",
      "execution_count": null,
      "metadata": {
        "id": "uWUb6g72P9Ym"
      },
      "outputs": [],
      "source": [
        "!pip install onnx\n",
        "!pip install tf2onnx"
      ]
    },
    {
      "cell_type": "code",
      "execution_count": null,
      "metadata": {
        "id": "u9IOeG7wknIb"
      },
      "outputs": [],
      "source": [
        "import numpy as np\n",
        "import tensorflow\n",
        "import matplotlib.pyplot as plt"
      ]
    },
    {
      "cell_type": "code",
      "execution_count": null,
      "metadata": {
        "id": "sJHUC8OAlGnG"
      },
      "outputs": [],
      "source": [
        "from tensorflow.keras.datasets import cifar10\n",
        "(train_images, train_labels), (test_images, test_labels) = cifar10.load_data()"
      ]
    },
    {
      "cell_type": "code",
      "execution_count": null,
      "metadata": {
        "id": "hyzOyQzGlNEY"
      },
      "outputs": [],
      "source": [
        "print('Training data shape: ', train_images.shape, train_labels.shape)\n",
        "print('Testing data shape: ', test_images.shape, test_labels.shape)\n",
        "classes = np.unique(train_labels)\n",
        "nClasses = len(classes)\n",
        "print('Total number of outputs: ', nClasses)\n",
        "print('Output classes: ', classes)\n",
        "plt.figure(figsize=[4, 2])\n",
        "plt.subplot(121)\n",
        "plt.imshow(train_images[0])\n",
        "plt.title('Ground Truth: {}'.format(train_labels[0]))\n",
        "plt.subplot(122)\n",
        "plt.imshow(test_images[0])\n",
        "plt.title('Ground Truth: {}'.format(test_labels[0]))\n",
        "plt.show()"
      ]
    },
    {
      "cell_type": "code",
      "execution_count": null,
      "metadata": {
        "id": "5q-tWdNtlUdC"
      },
      "outputs": [],
      "source": [
        "train_images, test_images = train_images / 255.0, test_images / 255.0"
      ]
    },
    {
      "cell_type": "code",
      "execution_count": null,
      "metadata": {
        "id": "4KhHUTRtlXqh"
      },
      "outputs": [],
      "source": [
        "from tensorflow.keras.utils import to_categorical\n",
        "print('Original label: ', train_labels[0])\n",
        "train_labels = to_categorical(train_labels)\n",
        "test_labels = to_categorical(test_labels)\n",
        "print('After conversion to categorical (one-hot): ', train_labels[0])"
      ]
    },
    {
      "cell_type": "code",
      "execution_count": null,
      "metadata": {
        "id": "AaTzrd5DlbN2"
      },
      "outputs": [],
      "source": [
        "from tensorflow.keras.models import Sequential\n",
        "from tensorflow.keras.layers import Input, Dense, Conv2D, MaxPooling2D, Dropout, Flatten\n",
        "model = Sequential()\n",
        "model.add(Input(shape=train_images.shape[1:]))\n",
        "model.add(Conv2D(32, (3, 3), padding='same', activation='relu'))\n",
        "model.add(Conv2D(32, (3, 3), activation='relu'))\n",
        "model.add(MaxPooling2D(pool_size=(2, 2)))\n",
        "model.add(Dropout(0.25))\n",
        "model.add(Conv2D(64, (3, 3), padding='same', activation='relu'))\n",
        "model.add(Conv2D(64, (3, 3), activation='relu'))\n",
        "model.add(MaxPooling2D(pool_size=(2, 2)))\n",
        "model.add(Dropout(0.25))\n",
        "model.add(Conv2D(64, (3, 3), padding='same', activation='relu'))\n",
        "model.add(Conv2D(64, (3, 3), activation='relu'))\n",
        "model.add(MaxPooling2D(pool_size=(2, 2)))\n",
        "model.add(Dropout(0.25))\n",
        "model.add(Flatten())\n",
        "model.add(Dense(512, activation='relu'))\n",
        "model.add(Dropout(0.5))\n",
        "model.add(Dense(nClasses, activation='softmax'))\n",
        "model.summary()"
      ]
    },
    {
      "cell_type": "code",
      "execution_count": null,
      "metadata": {
        "id": "xWW6ovKylfmZ"
      },
      "outputs": [],
      "source": [
        "model.compile(optimizer='rmsprop', loss='categorical_crossentropy', metrics=['accuracy'])"
      ]
    },
    {
      "cell_type": "code",
      "execution_count": null,
      "metadata": {
        "id": "8-qAeYrtlpWR"
      },
      "outputs": [],
      "source": [
        "history = model.fit(train_images, train_labels, batch_size=256, epochs=25, verbose=1, validation_split=0.20)"
      ]
    },
    {
      "cell_type": "code",
      "execution_count": null,
      "metadata": {
        "id": "-R9AMoB5lweE"
      },
      "outputs": [],
      "source": [
        "plt.figure(figsize=[8, 6])\n",
        "plt.plot(history.history['loss'], 'r', linewidth=3.0)\n",
        "plt.plot(history.history['val_loss'], 'b', linewidth=3.0)\n",
        "plt.legend(['Training loss', 'Validation Loss'], fontsize=18)\n",
        "plt.xlabel('Epochs', fontsize=16)\n",
        "plt.ylabel('Loss', fontsize=16)\n",
        "plt.title('Loss Curves', fontsize=16)\n",
        "plt.show()"
      ]
    },
    {
      "cell_type": "code",
      "execution_count": null,
      "metadata": {
        "id": "Nyyi969yl0Mq"
      },
      "outputs": [],
      "source": [
        "plt.figure(figsize=[8, 6])\n",
        "plt.plot(history.history['accuracy'], 'r', linewidth=3.0)\n",
        "plt.plot(history.history['val_accuracy'], 'b', linewidth=3.0)\n",
        "plt.legend(['Training Accuracy', 'Validation Accuracy'], fontsize=18)\n",
        "plt.xlabel('Epochs', fontsize=16)\n",
        "plt.ylabel('Accuracy', fontsize=16)\n",
        "plt.title('Accuracy Curves', fontsize=16)\n",
        "plt.show()"
      ]
    },
    {
      "cell_type": "code",
      "execution_count": null,
      "metadata": {
        "id": "8qmyVjzOl3kz"
      },
      "outputs": [],
      "source": [
        "test_loss, test_accuracy = model.evaluate(test_images, test_labels)"
      ]
    },
    {
      "cell_type": "code",
      "execution_count": null,
      "metadata": {
        "id": "wPtym-Qvl6N2"
      },
      "outputs": [],
      "source": [
        "print('Test Loss:', test_loss)\n",
        "print('Test Accuracy:', test_accuracy)"
      ]
    },
    {
      "cell_type": "code",
      "execution_count": null,
      "metadata": {
        "id": "kZkCmXbCl8g9"
      },
      "outputs": [],
      "source": [
        "labels =  ['airplane', 'automobile', 'bird', 'cat', 'deer', 'dog', 'frog', 'horse', 'ship', 'truck']\n",
        "plt.figure(figsize=(13, 10))\n",
        "for i in range(25):\n",
        "    plt.subplot(5, 5, i+1)\n",
        "    plt.axis('off')\n",
        "    plt.imshow(test_images[i])\n",
        "    gt_string = f'Ground Truth: {labels[np.argmax(test_labels[i])]}'\n",
        "    pred_string = f'Prediction: {labels[np.argmax(model.predict(test_images[i:i+1]))]}'\n",
        "    plt.title(f'{gt_string}\\n{pred_string}')\n",
        "    plt.tight_layout()\n",
        "plt.show()"
      ]
    },
    {
      "cell_type": "code",
      "execution_count": null,
      "metadata": {
        "id": "h0G0N615mBc2"
      },
      "outputs": [],
      "source": [
        "model.export(\"models/cifar_classifier.onnx\", format=\"onnx\")"
      ]
    },
    {
      "cell_type": "code",
      "execution_count": null,
      "metadata": {
        "id": "SHFVk-UZrN62"
      },
      "outputs": [],
      "source": [
        "import os\n",
        "import numpy as np\n",
        "import cv2\n",
        "import matplotlib.pyplot as plt"
      ]
    },
    {
      "cell_type": "code",
      "execution_count": null,
      "metadata": {
        "id": "3Rz5eHMJriAA"
      },
      "outputs": [],
      "source": [
        "label_names = ['airplane', 'automobile', 'bird', 'cat', 'deer', 'dog', 'frog', 'horse', 'ship', 'truck']\n",
        "label_names.sort()\n",
        "model_path = os.path.join('models', 'cifar_classifier.onnx')\n",
        "net = cv2.dnn.readNetFromONNX(model_path)\n",
        "img_original = cv2.imread('image_2.png')\n",
        "img = img_original.copy()\n",
        "img = cv2.resize(img,(32,32))\n",
        "img = cv2.cvtColor(img, cv2.COLOR_BGR2RGB)\n",
        "img = np.array([img]).astype('float64') / 255.0\n",
        "net.setInput(img)\n",
        "out = net.forward()\n",
        "index = np.argmax(out[0])\n",
        "prob = np.max(out[0])\n",
        "label =  label_names[index]\n",
        "text = 'Predicted: {}, Probability {:.2f}%'.format(label, prob*100)\n",
        "cv2.putText(img_original, text, (5, 40),  cv2.FONT_HERSHEY_COMPLEX, 1, (100, 20, 255), 2)\n",
        "plt.figure(figsize=(20,10))\n",
        "plt.imshow(cv2.cvtColor(img_original, cv2.COLOR_BGR2RGB))\n",
        "plt.axis('off')\n",
        "plt.show()"
      ]
    }
  ],
  "metadata": {
    "accelerator": "GPU",
    "colab": {
      "gpuType": "T4",
      "provenance": []
    },
    "kernelspec": {
      "display_name": "Python 3",
      "name": "python3"
    },
    "language_info": {
      "name": "python"
    }
  },
  "nbformat": 4,
  "nbformat_minor": 0
}
